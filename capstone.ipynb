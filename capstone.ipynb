{
  "nbformat": 4,
  "nbformat_minor": 0,
  "metadata": {
    "kernelspec": {
      "display_name": "Python 3",
      "language": "python",
      "name": "python3"
    },
    "language_info": {
      "codemirror_mode": {
        "name": "ipython",
        "version": 3
      },
      "file_extension": ".py",
      "mimetype": "text/x-python",
      "name": "python",
      "nbconvert_exporter": "python",
      "pygments_lexer": "ipython3",
      "version": "3.7.3"
    },
    "colab": {
      "name": "script.ipynb",
      "provenance": []
    }
  },
  "cells": [
    {
      "cell_type": "markdown",
      "metadata": {
        "id": "WIYQuPyBmhCM",
        "colab_type": "text"
      },
      "source": [
        "## Data Engineering Capstone Project\n",
        "#### Introduction\n",
        "This project deals with criminal information from the City of São Paulo - Brazil. The aim is to provide a solid and sanitized database for use in statistical and Business Inteligence analysis.\n",
        "\n",
        "Steps for achieve the project:\n",
        "* Step 1: Scope the Project and Gather Data\n",
        "* Step 2: Explore and Assess the Data\n",
        "* Step 3: Define the Data Model\n",
        "* Step 4: Run ETL to Model the Data\n",
        "* Step 5: Complete Project Write Up"
      ]
    },
    {
      "cell_type": "markdown",
      "metadata": {
        "id": "ynGNVbPDqB4p",
        "colab_type": "text"
      },
      "source": [
        "### Import Libraries"
      ]
    },
    {
      "cell_type": "code",
      "metadata": {
        "id": "UAlYFmELmhCO",
        "colab_type": "code",
        "colab": {}
      },
      "source": [
        "from pyspark import SparkContext\n",
        "from pyspark.sql import SparkSession\n",
        "from pyspark.sql import functions as f\n",
        "from datetime import datetime\n",
        "from sys import stdout\n",
        "import os\n"
      ],
      "execution_count": 0,
      "outputs": []
    },
    {
      "cell_type": "markdown",
      "metadata": {
        "id": "z9CsUJOQp0Tr",
        "colab_type": "text"
      },
      "source": [
        "### Create Functions"
      ]
    },
    {
      "cell_type": "code",
      "metadata": {
        "id": "yG08lXqamhCS",
        "colab_type": "code",
        "colab": {}
      },
      "source": [
        "def normalize_cname(_df):\n",
        "    \"\"\"\n",
        "    Standardizes column names from a dataframe (Spark)\n",
        "    \"\"\"\n",
        "    cols = _df.columns\n",
        "    df_result = _df\n",
        "    for c in cols:\n",
        "        df_result = df_result.withColumnRenamed(c, c.lower().replace(' ', '_'))\n",
        "    \n",
        "    return df_result\n",
        "\n",
        "def clean_ncols(_df):\n",
        "    \"\"\"\n",
        "    Replicate the dataframe to a new one with null fields\n",
        "    \"\"\"\n",
        "    col_types = _df.dtypes\n",
        "    df_result = _df\n",
        "    \n",
        "    for item in col_types:\n",
        "        if item[1] == 'string':\n",
        "            df_result = df_result.withColumn(item[0]\\\n",
        "                                            ,f.when(f.col(item[0]).isin('NULL','NaN', 'NA'), None)\\\n",
        "                                            .otherwise(f.col(item[0])) )\n",
        "    return df_result\n",
        "    "
      ],
      "execution_count": 0,
      "outputs": []
    },
    {
      "cell_type": "code",
      "metadata": {
        "id": "Y9ZzifcpmhCW",
        "colab_type": "code",
        "colab": {}
      },
      "source": [
        "spark = SparkSession\\\n",
        "    .builder\\\n",
        "    .appName('caps')\\\n",
        "    .master(\"local[*]\")\\\n",
        "    .getOrCreate()"
      ],
      "execution_count": 0,
      "outputs": []
    },
    {
      "cell_type": "markdown",
      "metadata": {
        "id": "C8uds_cJmhCa",
        "colab_type": "text"
      },
      "source": [
        "### Step 1: Scope the Project and Gather Data\n",
        "\n",
        "#### Describe and Gather Data\n",
        "1. **Crime Data in Brazil:** comes from [Kaggle](https://www.kaggle.com/inquisitivecrow/crime-data-in-brazil). All crime data from 10 years of police work in Sao Paulo - Brazil. There are more than 16kk of records with several attributes of criminal fact.\n",
        "3. **Current Properati Listing Information:** comes from [Kaggle](https://www.kaggle.com/properati-data/properties). Property attributes of 1.5 million Latin American listings.\n",
        "\n",
        "#### Gather Data\n",
        "The scope of this project is to create a Spark task responsible for making clean and reliable data available in a dimensional model.\n",
        "For our project, we will use AWS S3 as repository of our dimensional model, the query engine that will access our data is AWS Athena.\n",
        "Our analytical repository can be used by data scientists and industry intelligence analysts to identify patterns and correlations between data sets.\n",
        "For example, a company's real estate business needs to apply properties from a pricing study, using the data provided by our repository to identify if the surroundings of the properties have many indictment crimes and how relevant these criminal acts are."
      ]
    },
    {
      "cell_type": "code",
      "metadata": {
        "id": "cnaPlowSmhCb",
        "colab_type": "code",
        "colab": {}
      },
      "source": [
        "READ_PATH_CRIME_DATA = './data/crime_data_br/*.csv'\n",
        "READ_PATH_NEWS = './data/news_folhauol/*.csv'\n",
        "READ_PATH_PROPERTIES = './data/properties_br/*.csv'\n",
        "\n",
        "OUTPUT_CRIMES = 's3://ynfialho_capstone_crimes/crimes'\n",
        "OUTPUT_PROPERTIES = 's3://ynfialho_capstone_crimes/properties'"
      ],
      "execution_count": 0,
      "outputs": []
    },
    {
      "cell_type": "markdown",
      "metadata": {
        "id": "yi7oSSrTmhCd",
        "colab_type": "text"
      },
      "source": [
        "#### Read dataset Crime data in Brazil and drop tuples duplicates"
      ]
    },
    {
      "cell_type": "code",
      "metadata": {
        "id": "a6BwgTFCmhCd",
        "colab_type": "code",
        "colab": {},
        "outputId": "4dd6e984-2ec3-4715-fbe2-cb2b8509cdb0"
      },
      "source": [
        "df_crime_crude = spark.read\\\n",
        "    .option('mergeSchema', 'true')\\\n",
        "    .option('header', 'true')\\\n",
        "    .option('inferSchema', 'true')\\\n",
        "    .csv(READ_PATH_CRIME_DATA)\\\n",
        "    .dropDuplicates()\n",
        "\n",
        "df_crime_crude.printSchema()"
      ],
      "execution_count": 0,
      "outputs": [
        {
          "output_type": "stream",
          "text": [
            "root\n",
            " |-- NUM_BO: string (nullable = true)\n",
            " |-- ANO_BO: string (nullable = true)\n",
            " |-- ID_DELEGACIA: string (nullable = true)\n",
            " |-- NOME_DEPARTAMENTO: string (nullable = true)\n",
            " |-- NOME_SECCIONAL: string (nullable = true)\n",
            " |-- DELEGACIA: string (nullable = true)\n",
            " |-- NOME_DEPARTAMENTO_CIRC: string (nullable = true)\n",
            " |-- NOME_SECCIONAL_CIRC: string (nullable = true)\n",
            " |-- NOME_DELEGACIA_CIRC: string (nullable = true)\n",
            " |-- ANO: string (nullable = true)\n",
            " |-- MES: string (nullable = true)\n",
            " |-- DATA_OCORRENCIA_BO: string (nullable = true)\n",
            " |-- HORA_OCORRENCIA_BO: string (nullable = true)\n",
            " |-- FLAG_STATUS13: string (nullable = true)\n",
            " |-- RUBRICA: string (nullable = true)\n",
            " |-- DESDOBRAMENTO: string (nullable = true)\n",
            " |-- CONDUTA: string (nullable = true)\n",
            " |-- LATITUDE: string (nullable = true)\n",
            " |-- LONGITUDE: string (nullable = true)\n",
            " |-- CIDADE: string (nullable = true)\n",
            " |-- LOGRADOURO: string (nullable = true)\n",
            " |-- NUMERO_LOGRADOURO: string (nullable = true)\n",
            " |-- FLAG_STATUS22: string (nullable = true)\n",
            " |-- DESCR_TIPO_PESSOA: string (nullable = true)\n",
            " |-- CONT_PESSOA: string (nullable = true)\n",
            " |-- SEXO_PESSOA: string (nullable = true)\n",
            " |-- IDADE_PESSOA: string (nullable = true)\n",
            " |-- COR: string (nullable = true)\n",
            " |-- DESCR_PROFISSAO: string (nullable = true)\n",
            " |-- DESCR_GRAU_INSTRUCAO: string (nullable = true)\n",
            " |-- _c30: string (nullable = true)\n",
            " |-- _c31: string (nullable = true)\n",
            " |-- _c32: string (nullable = true)\n",
            "\n"
          ],
          "name": "stdout"
        }
      ]
    },
    {
      "cell_type": "markdown",
      "metadata": {
        "id": "WlGADBRPmhCg",
        "colab_type": "text"
      },
      "source": [
        "#### Renamed columns to lower case"
      ]
    },
    {
      "cell_type": "code",
      "metadata": {
        "id": "reCT_bGimhCh",
        "colab_type": "code",
        "colab": {}
      },
      "source": [
        "df_crime_crude = normalize_cname(df_crime_crude)"
      ],
      "execution_count": 0,
      "outputs": []
    },
    {
      "cell_type": "code",
      "metadata": {
        "id": "_Zu87AeLmhCj",
        "colab_type": "code",
        "colab": {}
      },
      "source": [
        "qtd_reg_crimes = df_crime_crude.count()\n",
        "print('Total records df_crime_crude:', qtd_reg_crimes)"
      ],
      "execution_count": 0,
      "outputs": []
    },
    {
      "cell_type": "markdown",
      "metadata": {
        "id": "3tm6cfEXmhCk",
        "colab_type": "text"
      },
      "source": [
        "### Step 2: Explore and Assess the Data"
      ]
    },
    {
      "cell_type": "markdown",
      "metadata": {
        "id": "Xny4uQ_emhCl",
        "colab_type": "text"
      },
      "source": [
        "#### Replace strings 'NULL','NaN', 'NA' to null type"
      ]
    },
    {
      "cell_type": "code",
      "metadata": {
        "id": "l2aj715tmhCm",
        "colab_type": "code",
        "colab": {}
      },
      "source": [
        "df_crime_crude = clean_ncols(df_crime_crude)"
      ],
      "execution_count": 0,
      "outputs": []
    },
    {
      "cell_type": "markdown",
      "metadata": {
        "id": "I03mb2kFmhCn",
        "colab_type": "text"
      },
      "source": [
        "#### The columns are recorded as _col# records of badly formatted strings to our project records affected by these anomalies will be discarded because they represent a very low percentage."
      ]
    },
    {
      "cell_type": "code",
      "metadata": {
        "id": "eW1vdGgbmhCo",
        "colab_type": "code",
        "colab": {}
      },
      "source": [
        "df_crime = df_crime_crude.where('(_c30 is null and _c31 is null and _c32 is null)').drop('_c30', '_c31', '_c32')"
      ],
      "execution_count": 0,
      "outputs": []
    },
    {
      "cell_type": "code",
      "metadata": {
        "id": "MzD_jokTmhCq",
        "colab_type": "code",
        "colab": {},
        "outputId": "8d438354-8331-4e7a-f2e4-40e81b0861b4"
      },
      "source": [
        "df_crime.limit(10).toPandas()"
      ],
      "execution_count": 0,
      "outputs": [
        {
          "output_type": "execute_result",
          "data": {
            "text/html": [
              "<div>\n",
              "<style scoped>\n",
              "    .dataframe tbody tr th:only-of-type {\n",
              "        vertical-align: middle;\n",
              "    }\n",
              "\n",
              "    .dataframe tbody tr th {\n",
              "        vertical-align: top;\n",
              "    }\n",
              "\n",
              "    .dataframe thead th {\n",
              "        text-align: right;\n",
              "    }\n",
              "</style>\n",
              "<table border=\"1\" class=\"dataframe\">\n",
              "  <thead>\n",
              "    <tr style=\"text-align: right;\">\n",
              "      <th></th>\n",
              "      <th>num_bo</th>\n",
              "      <th>ano_bo</th>\n",
              "      <th>id_delegacia</th>\n",
              "      <th>nome_departamento</th>\n",
              "      <th>nome_seccional</th>\n",
              "      <th>delegacia</th>\n",
              "      <th>nome_departamento_circ</th>\n",
              "      <th>nome_seccional_circ</th>\n",
              "      <th>nome_delegacia_circ</th>\n",
              "      <th>ano</th>\n",
              "      <th>...</th>\n",
              "      <th>logradouro</th>\n",
              "      <th>numero_logradouro</th>\n",
              "      <th>flag_status22</th>\n",
              "      <th>descr_tipo_pessoa</th>\n",
              "      <th>cont_pessoa</th>\n",
              "      <th>sexo_pessoa</th>\n",
              "      <th>idade_pessoa</th>\n",
              "      <th>cor</th>\n",
              "      <th>descr_profissao</th>\n",
              "      <th>descr_grau_instrucao</th>\n",
              "    </tr>\n",
              "  </thead>\n",
              "  <tbody>\n",
              "    <tr>\n",
              "      <th>0</th>\n",
              "      <td>3807</td>\n",
              "      <td>2009</td>\n",
              "      <td>30307</td>\n",
              "      <td>DEMACRO</td>\n",
              "      <td>DEL.SEC.MOGI DAS CRUZES</td>\n",
              "      <td>02º D.P. MOGI DAS CRUZES</td>\n",
              "      <td>DEMACRO</td>\n",
              "      <td>DEL.SEC.MOGI DAS CRUZES</td>\n",
              "      <td>02º D.P. MOGI DAS CRUZES</td>\n",
              "      <td>2009</td>\n",
              "      <td>...</td>\n",
              "      <td>AV ANCHIETA</td>\n",
              "      <td>0</td>\n",
              "      <td>C</td>\n",
              "      <td>Vítima</td>\n",
              "      <td>1</td>\n",
              "      <td>M</td>\n",
              "      <td>41</td>\n",
              "      <td>Preta</td>\n",
              "      <td>APOSENTADO(A)</td>\n",
              "      <td>1 Grau incompleto</td>\n",
              "    </tr>\n",
              "    <tr>\n",
              "      <th>1</th>\n",
              "      <td>2897</td>\n",
              "      <td>2009</td>\n",
              "      <td>10354</td>\n",
              "      <td>DECAP</td>\n",
              "      <td>DEL.SEC.8º SAO MATEUS</td>\n",
              "      <td>54º D.P.  CID. TIRADENTES</td>\n",
              "      <td>DECAP</td>\n",
              "      <td>DEL.SEC.8º SAO MATEUS</td>\n",
              "      <td>54º D.P.  CID. TIRADENTES</td>\n",
              "      <td>2009</td>\n",
              "      <td>...</td>\n",
              "      <td>DOUTOR  GUILERME DE ABREU SODRE</td>\n",
              "      <td>790</td>\n",
              "      <td>C</td>\n",
              "      <td>Indiciado</td>\n",
              "      <td>6</td>\n",
              "      <td>M</td>\n",
              "      <td>None</td>\n",
              "      <td>None</td>\n",
              "      <td>None</td>\n",
              "      <td>None</td>\n",
              "    </tr>\n",
              "    <tr>\n",
              "      <th>2</th>\n",
              "      <td>2919</td>\n",
              "      <td>2009</td>\n",
              "      <td>10344</td>\n",
              "      <td>DECAP</td>\n",
              "      <td>DEL.SEC.6º SANTO AMARO</td>\n",
              "      <td>80º D.P. VILA JOANIZA</td>\n",
              "      <td>DECAP</td>\n",
              "      <td>DEL.SEC.2º SUL</td>\n",
              "      <td>35º D.P.  JABAQUARA</td>\n",
              "      <td>2009</td>\n",
              "      <td>...</td>\n",
              "      <td>AC AV ENG ARMANDO DE ARRUDA PEREIRA</td>\n",
              "      <td>4678</td>\n",
              "      <td>C</td>\n",
              "      <td>Vítima</td>\n",
              "      <td>2</td>\n",
              "      <td>F</td>\n",
              "      <td>29</td>\n",
              "      <td>Branca</td>\n",
              "      <td>CONSULTOR(A)</td>\n",
              "      <td>Superior completo</td>\n",
              "    </tr>\n",
              "    <tr>\n",
              "      <th>3</th>\n",
              "      <td>3744</td>\n",
              "      <td>2009</td>\n",
              "      <td>10365</td>\n",
              "      <td>DECAP</td>\n",
              "      <td>DEL.SEC.4º NORTE</td>\n",
              "      <td>90º D.P. PQ. NOVO MUNDO</td>\n",
              "      <td>DECAP</td>\n",
              "      <td>DEL.SEC.4º NORTE</td>\n",
              "      <td>90º D.P. PQ. NOVO MUNDO</td>\n",
              "      <td>2009</td>\n",
              "      <td>...</td>\n",
              "      <td>AC MARGINAL DIREITA DO TIETE</td>\n",
              "      <td>18</td>\n",
              "      <td>C</td>\n",
              "      <td>Partes</td>\n",
              "      <td>5</td>\n",
              "      <td>M</td>\n",
              "      <td>45</td>\n",
              "      <td>Branca</td>\n",
              "      <td>ANALISTA DE SISTEMAS</td>\n",
              "      <td>Superior completo</td>\n",
              "    </tr>\n",
              "    <tr>\n",
              "      <th>4</th>\n",
              "      <td>3363</td>\n",
              "      <td>2009</td>\n",
              "      <td>10308</td>\n",
              "      <td>DECAP</td>\n",
              "      <td>DEL.SEC.5º LESTE</td>\n",
              "      <td>52º D.P.  PARQUE S.JORGE</td>\n",
              "      <td>DECAP</td>\n",
              "      <td>DEL.SEC.4º NORTE</td>\n",
              "      <td>19º D.P.  VILA MARIA</td>\n",
              "      <td>2009</td>\n",
              "      <td>...</td>\n",
              "      <td>AC PONTE PRES JANIO QUADROS-AV MORVAN DI</td>\n",
              "      <td>0</td>\n",
              "      <td>C</td>\n",
              "      <td>Testemunha</td>\n",
              "      <td>3</td>\n",
              "      <td>M</td>\n",
              "      <td>41</td>\n",
              "      <td>Branca</td>\n",
              "      <td>AJUDANTE</td>\n",
              "      <td>1 Grau incompleto</td>\n",
              "    </tr>\n",
              "    <tr>\n",
              "      <th>5</th>\n",
              "      <td>2373</td>\n",
              "      <td>2009</td>\n",
              "      <td>130412</td>\n",
              "      <td>DEINTER 1 - SAO JOSE DOS CAMPOS</td>\n",
              "      <td>DEL.SEC.TAUBATÉ</td>\n",
              "      <td>01º D.P. PINDAMONHANGABA</td>\n",
              "      <td>DECAP</td>\n",
              "      <td>DEL.SEC.3º OESTE</td>\n",
              "      <td>46º D.P.  PERUS</td>\n",
              "      <td>2009</td>\n",
              "      <td>...</td>\n",
              "      <td>AL AGENOR COUTO DE MAGALHAES</td>\n",
              "      <td>0</td>\n",
              "      <td>C</td>\n",
              "      <td>Vítima</td>\n",
              "      <td>1</td>\n",
              "      <td>F</td>\n",
              "      <td>63</td>\n",
              "      <td>Branca</td>\n",
              "      <td>None</td>\n",
              "      <td>None</td>\n",
              "    </tr>\n",
              "    <tr>\n",
              "      <th>6</th>\n",
              "      <td>2286</td>\n",
              "      <td>2009</td>\n",
              "      <td>30609</td>\n",
              "      <td>DEMACRO</td>\n",
              "      <td>DEL.SEC.CARAPICUIBA</td>\n",
              "      <td>02º D.P. BARUERI</td>\n",
              "      <td>DEMACRO</td>\n",
              "      <td>DEL.SEC.CARAPICUIBA</td>\n",
              "      <td>01º D.P. BARUERI</td>\n",
              "      <td>2009</td>\n",
              "      <td>...</td>\n",
              "      <td>AL ARAGUAIA</td>\n",
              "      <td>1850</td>\n",
              "      <td>C</td>\n",
              "      <td>Vítima</td>\n",
              "      <td>2</td>\n",
              "      <td>M</td>\n",
              "      <td>16</td>\n",
              "      <td>Parda</td>\n",
              "      <td>ESTUDANTE</td>\n",
              "      <td>1 Grau incompleto</td>\n",
              "    </tr>\n",
              "    <tr>\n",
              "      <th>7</th>\n",
              "      <td>4665</td>\n",
              "      <td>2009</td>\n",
              "      <td>10342</td>\n",
              "      <td>DECAP</td>\n",
              "      <td>DEL.SEC.1º CENTRO</td>\n",
              "      <td>78º D.P. JARDINS</td>\n",
              "      <td>DECAP</td>\n",
              "      <td>DEL.SEC.1º CENTRO</td>\n",
              "      <td>78º D.P. JARDINS</td>\n",
              "      <td>2009</td>\n",
              "      <td>...</td>\n",
              "      <td>AL FRANCA</td>\n",
              "      <td>184</td>\n",
              "      <td>C</td>\n",
              "      <td>Representante</td>\n",
              "      <td>1</td>\n",
              "      <td>F</td>\n",
              "      <td>36</td>\n",
              "      <td>Branca</td>\n",
              "      <td>EMPRESARIO(A)</td>\n",
              "      <td>2 Grau completo</td>\n",
              "    </tr>\n",
              "    <tr>\n",
              "      <th>8</th>\n",
              "      <td>3205</td>\n",
              "      <td>2009</td>\n",
              "      <td>10333</td>\n",
              "      <td>DECAP</td>\n",
              "      <td>DEL.SEC.3º OESTE</td>\n",
              "      <td>33º D.P.  PIRITUBA</td>\n",
              "      <td>DECAP</td>\n",
              "      <td>DEL.SEC.1º CENTRO</td>\n",
              "      <td>78º D.P. JARDINS</td>\n",
              "      <td>2009</td>\n",
              "      <td>...</td>\n",
              "      <td>AL FRANCA</td>\n",
              "      <td>0</td>\n",
              "      <td>C</td>\n",
              "      <td>Indiciado</td>\n",
              "      <td>1</td>\n",
              "      <td>M</td>\n",
              "      <td>None</td>\n",
              "      <td>Branca</td>\n",
              "      <td>None</td>\n",
              "      <td>None</td>\n",
              "    </tr>\n",
              "    <tr>\n",
              "      <th>9</th>\n",
              "      <td>4638</td>\n",
              "      <td>2009</td>\n",
              "      <td>10341</td>\n",
              "      <td>DECAP</td>\n",
              "      <td>DEL.SEC.1º CENTRO</td>\n",
              "      <td>77º D.P. SANTA CECILIA</td>\n",
              "      <td>DECAP</td>\n",
              "      <td>DEL.SEC.1º CENTRO</td>\n",
              "      <td>77º D.P. SANTA CECILIA</td>\n",
              "      <td>2009</td>\n",
              "      <td>...</td>\n",
              "      <td>AL NOTHMANN</td>\n",
              "      <td>100</td>\n",
              "      <td>C</td>\n",
              "      <td>Indiciado</td>\n",
              "      <td>2</td>\n",
              "      <td>M</td>\n",
              "      <td>26</td>\n",
              "      <td>Parda</td>\n",
              "      <td>None</td>\n",
              "      <td>None</td>\n",
              "    </tr>\n",
              "  </tbody>\n",
              "</table>\n",
              "<p>10 rows × 30 columns</p>\n",
              "</div>"
            ],
            "text/plain": [
              "  num_bo ano_bo id_delegacia                         nome_departamento  \\\n",
              "0   3807   2009        30307  DEMACRO                                    \n",
              "1   2897   2009        10354  DECAP                                      \n",
              "2   2919   2009        10344  DECAP                                      \n",
              "3   3744   2009        10365  DECAP                                      \n",
              "4   3363   2009        10308  DECAP                                      \n",
              "5   2373   2009       130412  DEINTER 1 - SAO JOSE DOS CAMPOS            \n",
              "6   2286   2009        30609  DEMACRO                                    \n",
              "7   4665   2009        10342  DECAP                                      \n",
              "8   3205   2009        10333  DECAP                                      \n",
              "9   4638   2009        10341  DECAP                                      \n",
              "\n",
              "                             nome_seccional                       delegacia  \\\n",
              "0  DEL.SEC.MOGI DAS CRUZES                   02º D.P. MOGI DAS CRUZES         \n",
              "1  DEL.SEC.8º SAO MATEUS                     54º D.P.  CID. TIRADENTES        \n",
              "2  DEL.SEC.6º SANTO AMARO                    80º D.P. VILA JOANIZA            \n",
              "3  DEL.SEC.4º NORTE                          90º D.P. PQ. NOVO MUNDO          \n",
              "4  DEL.SEC.5º LESTE                          52º D.P.  PARQUE S.JORGE         \n",
              "5  DEL.SEC.TAUBATÉ                           01º D.P. PINDAMONHANGABA         \n",
              "6  DEL.SEC.CARAPICUIBA                       02º D.P. BARUERI                 \n",
              "7  DEL.SEC.1º CENTRO                         78º D.P. JARDINS                 \n",
              "8  DEL.SEC.3º OESTE                          33º D.P.  PIRITUBA               \n",
              "9  DEL.SEC.1º CENTRO                         77º D.P. SANTA CECILIA           \n",
              "\n",
              "                     nome_departamento_circ  \\\n",
              "0  DEMACRO                                    \n",
              "1  DECAP                                      \n",
              "2  DECAP                                      \n",
              "3  DECAP                                      \n",
              "4  DECAP                                      \n",
              "5  DECAP                                      \n",
              "6  DEMACRO                                    \n",
              "7  DECAP                                      \n",
              "8  DECAP                                      \n",
              "9  DECAP                                      \n",
              "\n",
              "                        nome_seccional_circ             nome_delegacia_circ  \\\n",
              "0  DEL.SEC.MOGI DAS CRUZES                   02º D.P. MOGI DAS CRUZES         \n",
              "1  DEL.SEC.8º SAO MATEUS                     54º D.P.  CID. TIRADENTES        \n",
              "2  DEL.SEC.2º SUL                            35º D.P.  JABAQUARA              \n",
              "3  DEL.SEC.4º NORTE                          90º D.P. PQ. NOVO MUNDO          \n",
              "4  DEL.SEC.4º NORTE                          19º D.P.  VILA MARIA             \n",
              "5  DEL.SEC.3º OESTE                          46º D.P.  PERUS                  \n",
              "6  DEL.SEC.CARAPICUIBA                       01º D.P. BARUERI                 \n",
              "7  DEL.SEC.1º CENTRO                         78º D.P. JARDINS                 \n",
              "8  DEL.SEC.1º CENTRO                         78º D.P. JARDINS                 \n",
              "9  DEL.SEC.1º CENTRO                         77º D.P. SANTA CECILIA           \n",
              "\n",
              "    ano  ...                                logradouro numero_logradouro  \\\n",
              "0  2009  ...   AV ANCHIETA                                             0   \n",
              "1  2009  ...   DOUTOR  GUILERME DE ABREU SODRE                       790   \n",
              "2  2009  ...  AC AV ENG ARMANDO DE ARRUDA PEREIRA                   4678   \n",
              "3  2009  ...  AC MARGINAL DIREITA DO TIETE                            18   \n",
              "4  2009  ...  AC PONTE PRES JANIO QUADROS-AV MORVAN DI                 0   \n",
              "5  2009  ...  AL AGENOR COUTO DE MAGALHAES                             0   \n",
              "6  2009  ...  AL ARAGUAIA                                           1850   \n",
              "7  2009  ...  AL FRANCA                                              184   \n",
              "8  2009  ...  AL FRANCA                                                0   \n",
              "9  2009  ...  AL NOTHMANN                                            100   \n",
              "\n",
              "  flag_status22     descr_tipo_pessoa cont_pessoa sexo_pessoa idade_pessoa  \\\n",
              "0             C  Vítima                         1           M           41   \n",
              "1             C  Indiciado                      6           M         None   \n",
              "2             C  Vítima                         2           F           29   \n",
              "3             C  Partes                         5           M           45   \n",
              "4             C  Testemunha                     3           M           41   \n",
              "5             C  Vítima                         1           F           63   \n",
              "6             C  Vítima                         2           M           16   \n",
              "7             C  Representante                  1           F           36   \n",
              "8             C  Indiciado                      1           M         None   \n",
              "9             C  Indiciado                      2           M           26   \n",
              "\n",
              "                    cor                 descr_profissao  \\\n",
              "0  Preta                 APOSENTADO(A)                    \n",
              "1                  None                            None   \n",
              "2  Branca                CONSULTOR(A)                     \n",
              "3  Branca                ANALISTA DE SISTEMAS             \n",
              "4  Branca                AJUDANTE                         \n",
              "5  Branca                                          None   \n",
              "6  Parda                 ESTUDANTE                        \n",
              "7  Branca                EMPRESARIO(A)                    \n",
              "8  Branca                                          None   \n",
              "9  Parda                                           None   \n",
              "\n",
              "                       descr_grau_instrucao  \n",
              "0  1 Grau incompleto                         \n",
              "1                                      None  \n",
              "2  Superior completo                         \n",
              "3  Superior completo                         \n",
              "4  1 Grau incompleto                         \n",
              "5                                      None  \n",
              "6  1 Grau incompleto                         \n",
              "7  2 Grau completo                           \n",
              "8                                      None  \n",
              "9                                      None  \n",
              "\n",
              "[10 rows x 30 columns]"
            ]
          },
          "metadata": {
            "tags": []
          },
          "execution_count": 48
        }
      ]
    },
    {
      "cell_type": "markdown",
      "metadata": {
        "id": "5dujNx8YmhCs",
        "colab_type": "text"
      },
      "source": [
        "#### Normalizing the sexo_pessoa stands for F (female)"
      ]
    },
    {
      "cell_type": "code",
      "metadata": {
        "id": "KWvBm7zCmhCt",
        "colab_type": "code",
        "colab": {}
      },
      "source": [
        "df_crime = df_crime.withColumn('sexo_pessoa'\\\n",
        "                               , f.when(f.col('sexo_pessoa') == 'I', 'F')\\\n",
        "                               .otherwise(f.col('sexo_pessoa')))"
      ],
      "execution_count": 0,
      "outputs": []
    },
    {
      "cell_type": "markdown",
      "metadata": {
        "id": "8r8lWov7mhCv",
        "colab_type": "text"
      },
      "source": [
        "#### Data quality check: validation if columns have only numeric data, otherwise values will be null"
      ]
    },
    {
      "cell_type": "code",
      "metadata": {
        "id": "SkmkqJEUmhCv",
        "colab_type": "code",
        "colab": {},
        "outputId": "90eb12a5-cbf3-4ff1-fd78-1b7c3a07c174"
      },
      "source": [
        "df_crime.select('latitude', 'longitude').where(\"latitude rlike '[a-z]'\").distinct().show(10, False)"
      ],
      "execution_count": 0,
      "outputs": [
        {
          "output_type": "stream",
          "text": [
            "+--------+---------+\n",
            "|latitude|longitude|\n",
            "+--------+---------+\n",
            "+--------+---------+\n",
            "\n"
          ],
          "name": "stdout"
        }
      ]
    },
    {
      "cell_type": "markdown",
      "metadata": {
        "id": "d-DhoQrzmhCx",
        "colab_type": "text"
      },
      "source": [
        "#### Data dictionary: crime data"
      ]
    },
    {
      "cell_type": "code",
      "metadata": {
        "id": "iGqlTJw0mhCy",
        "colab_type": "code",
        "colab": {}
      },
      "source": [
        "data_dict_crime = {\n",
        "\"num_bo\": \"integer\",\n",
        "\"ano_bo\": \"integer\",\n",
        "\"id_delegacia\": \"integer\",\n",
        "\"nome_departamento\": \"string\",\n",
        "\"nome_seccional\": \"string\",\n",
        "\"delegacia\": \"string\",\n",
        "\"nome_departamento_circ\": \"string\",\n",
        "\"nome_seccional_circ\": \"string\",\n",
        "\"nome_delegacia_circ\": \"string\",\n",
        "\"ano\": \"integer\",\n",
        "\"mes\": \"integer\",\n",
        "\"data_ocorrencia_bo\":\"string\",\n",
        "\"hora_ocorrencia_bo\":\"string\",\n",
        "\"flag_status13\": \"string\",\n",
        "\"rubrica\": \"string\",\n",
        "\"desdobramento\": \"string\",\n",
        "\"conduta\": \"string\",\n",
        "\"latitude\": \"double\",\n",
        "\"longitude\": \"double\",\n",
        "\"cidade\": \"string\",\n",
        "\"logradouro\": \"string\",\n",
        "\"numero_logradouro\": \"string\",\n",
        "\"flag_status22\": \"string\",\n",
        "\"descr_tipo_pessoa\": \"string\",\n",
        "\"cont_pessoa\": \"string\",\n",
        "\"sexo_pessoa\": \"string\",\n",
        "\"idade_pessoa\": \"string\",\n",
        "\"cor\": \"string\",\n",
        "\"descr_profissao\": \"string\",\n",
        "\"descr_grau_instrucao\": \"string\"\n",
        "}"
      ],
      "execution_count": 0,
      "outputs": []
    },
    {
      "cell_type": "markdown",
      "metadata": {
        "id": "V--vvzU3mhCz",
        "colab_type": "text"
      },
      "source": [
        "#### Converted all column types according to data dictionary"
      ]
    },
    {
      "cell_type": "code",
      "metadata": {
        "id": "8kdX0IdBmhC0",
        "colab_type": "code",
        "colab": {}
      },
      "source": [
        "for k, v in data_dict_crime.items():\n",
        "    df_crime = df_crime.withColumn(k, f.col(k).cast(v))"
      ],
      "execution_count": 0,
      "outputs": []
    },
    {
      "cell_type": "markdown",
      "metadata": {
        "id": "ZmNjCb3zmhC2",
        "colab_type": "text"
      },
      "source": [
        "#### Data quality check: validate types"
      ]
    },
    {
      "cell_type": "code",
      "metadata": {
        "id": "EctLUEBRmhC2",
        "colab_type": "code",
        "colab": {},
        "outputId": "8c7963bd-9a6b-4079-cb9f-cde2a47d4ed1"
      },
      "source": [
        "df_crime.printSchema()"
      ],
      "execution_count": 0,
      "outputs": [
        {
          "output_type": "stream",
          "text": [
            "root\n",
            " |-- num_bo: integer (nullable = true)\n",
            " |-- ano_bo: integer (nullable = true)\n",
            " |-- id_delegacia: integer (nullable = true)\n",
            " |-- nome_departamento: string (nullable = true)\n",
            " |-- nome_seccional: string (nullable = true)\n",
            " |-- delegacia: string (nullable = true)\n",
            " |-- nome_departamento_circ: string (nullable = true)\n",
            " |-- nome_seccional_circ: string (nullable = true)\n",
            " |-- nome_delegacia_circ: string (nullable = true)\n",
            " |-- ano: integer (nullable = true)\n",
            " |-- mes: integer (nullable = true)\n",
            " |-- data_ocorrencia_bo: string (nullable = true)\n",
            " |-- hora_ocorrencia_bo: string (nullable = true)\n",
            " |-- flag_status13: string (nullable = true)\n",
            " |-- rubrica: string (nullable = true)\n",
            " |-- desdobramento: string (nullable = true)\n",
            " |-- conduta: string (nullable = true)\n",
            " |-- latitude: double (nullable = true)\n",
            " |-- longitude: double (nullable = true)\n",
            " |-- cidade: string (nullable = true)\n",
            " |-- logradouro: string (nullable = true)\n",
            " |-- numero_logradouro: string (nullable = true)\n",
            " |-- flag_status22: string (nullable = true)\n",
            " |-- descr_tipo_pessoa: string (nullable = true)\n",
            " |-- cont_pessoa: string (nullable = true)\n",
            " |-- sexo_pessoa: string (nullable = true)\n",
            " |-- idade_pessoa: string (nullable = true)\n",
            " |-- cor: string (nullable = true)\n",
            " |-- descr_profissao: string (nullable = true)\n",
            " |-- descr_grau_instrucao: string (nullable = true)\n",
            "\n"
          ],
          "name": "stdout"
        }
      ]
    },
    {
      "cell_type": "markdown",
      "metadata": {
        "id": "2-E6lWt0mhC5",
        "colab_type": "text"
      },
      "source": [
        "#### To optimize future transformations, our dataframe will be created from parquet files in a temporary directory.\n",
        "We will use this feature only now because previous transformations made the data frame consumable"
      ]
    },
    {
      "cell_type": "code",
      "metadata": {
        "id": "2g8pVKwEmhC6",
        "colab_type": "code",
        "colab": {}
      },
      "source": [
        "df_crime.repartition(5).write.mode('append').parquet('./data/tmp_crime_data_br/')"
      ],
      "execution_count": 0,
      "outputs": []
    },
    {
      "cell_type": "code",
      "metadata": {
        "id": "p0t1hk87mhC9",
        "colab_type": "code",
        "colab": {}
      },
      "source": [
        "df_crime_temp = spark.read.parquet('./data/tmp_crime_data_br/*.parquet')\n",
        "df_crime_temp.where(\"sexo_pessoa in ('F', 'M') and (latitude is not null or longitude is not null)\")\\\n",
        ".createOrReplaceTempView('df_crime')"
      ],
      "execution_count": 0,
      "outputs": []
    },
    {
      "cell_type": "markdown",
      "metadata": {
        "id": "qfKoG2M2mhC-",
        "colab_type": "text"
      },
      "source": [
        "#### Create dimension police station"
      ]
    },
    {
      "cell_type": "code",
      "metadata": {
        "id": "M34PKctAmhC_",
        "colab_type": "code",
        "colab": {}
      },
      "source": [
        "df_police_station = spark.sql(\"\\\n",
        "          SELECT DISTINCT id_delegacia, nome_departamento, nome_seccional, delegacia\\\n",
        "          FROM df_crime\\\n",
        "          \")"
      ],
      "execution_count": 0,
      "outputs": []
    },
    {
      "cell_type": "markdown",
      "metadata": {
        "id": "6ClYVuXJmhDA",
        "colab_type": "text"
      },
      "source": [
        "#### Data quality check: check empty data frame"
      ]
    },
    {
      "cell_type": "code",
      "metadata": {
        "id": "CCZkaW3gmhDB",
        "colab_type": "code",
        "colab": {},
        "outputId": "dedb7dfe-6697-4e93-a4ca-d5c0cd988c02"
      },
      "source": [
        "df_police_station.count()"
      ],
      "execution_count": 0,
      "outputs": [
        {
          "output_type": "execute_result",
          "data": {
            "text/plain": [
              "6441"
            ]
          },
          "metadata": {
            "tags": []
          },
          "execution_count": 78
        }
      ]
    },
    {
      "cell_type": "markdown",
      "metadata": {
        "id": "8Yog0h2UmhDD",
        "colab_type": "text"
      },
      "source": [
        "#### Writing data from police station"
      ]
    },
    {
      "cell_type": "code",
      "metadata": {
        "id": "su9KBOI2mhDD",
        "colab_type": "code",
        "colab": {}
      },
      "source": [
        "df_police_station.repartition(1).write.mode('append').parquet('{}/{}'.format(OUTPUT_CRIMES, 'police_station'))"
      ],
      "execution_count": 0,
      "outputs": []
    },
    {
      "cell_type": "markdown",
      "metadata": {
        "id": "XVxwEFhWmhDF",
        "colab_type": "text"
      },
      "source": [
        "#### Create table fact crimes"
      ]
    },
    {
      "cell_type": "code",
      "metadata": {
        "id": "uBnWTd5umhDF",
        "colab_type": "code",
        "colab": {}
      },
      "source": [
        "df_fact = spark.sql(\"\\\n",
        "          SELECT DISTINCT \\\n",
        "            num_bo, \\\n",
        "            id_delegacia, \\\n",
        "            latitude, \\\n",
        "            longitude, \\\n",
        "            ano_bo, \\\n",
        "            nome_departamento_circ, \\\n",
        "            nome_seccional_circ, \\\n",
        "            nome_delegacia_circ, \\\n",
        "            ano, \\\n",
        "            mes, \\\n",
        "            data_ocorrencia_bo, \\\n",
        "            hora_ocorrencia_bo, \\\n",
        "            flag_status13, \\\n",
        "            rubrica, \\\n",
        "            desdobramento, \\\n",
        "            conduta, \\\n",
        "            cidade, \\\n",
        "            logradouro, \\\n",
        "            numero_logradouro, \\\n",
        "            flag_status22, \\\n",
        "            descr_tipo_pessoa, \\\n",
        "            cont_pessoa, \\\n",
        "            sexo_pessoa, \\\n",
        "            idade_pessoa, \\\n",
        "            cor, \\\n",
        "            descr_profissao, \\\n",
        "            descr_grau_instrucao \\\n",
        "          FROM df_crime\\\n",
        "          \")"
      ],
      "execution_count": 0,
      "outputs": []
    },
    {
      "cell_type": "code",
      "metadata": {
        "id": "xAY5ak1jmhDG",
        "colab_type": "code",
        "colab": {}
      },
      "source": [
        "df_fact.repartition(10).write.mode('append').parquet('{}/{}'.format(OUTPUT_CRIMES, 'fact_crimes'))"
      ],
      "execution_count": 0,
      "outputs": []
    },
    {
      "cell_type": "markdown",
      "metadata": {
        "id": "g1ejEHS6mhDI",
        "colab_type": "text"
      },
      "source": [
        "\n",
        "#### Read dataset Properties"
      ]
    },
    {
      "cell_type": "code",
      "metadata": {
        "id": "ScowCHximhDI",
        "colab_type": "code",
        "colab": {},
        "outputId": "79711a87-7bf0-40ca-b511-4730d2d74282"
      },
      "source": [
        "df_properties_crude = spark.read\\\n",
        "    .option('mergeSchema', 'true')\\\n",
        "    .option('header', 'true')\\\n",
        "    .option('quote', '\"')\\\n",
        "    .option('escape', '\"')\\\n",
        "    .option('inferSchema', 'true')\\\n",
        "    .csv(READ_PATH_PROPERTIES)\n",
        "df_properties_crude = normalize_cname(df_properties_crude)\n",
        "df_properties.printSchema()"
      ],
      "execution_count": 0,
      "outputs": [
        {
          "output_type": "stream",
          "text": [
            "root\n",
            " |-- id: string (nullable = true)\n",
            " |-- created_on: string (nullable = true)\n",
            " |-- operation: string (nullable = true)\n",
            " |-- property_type: string (nullable = true)\n",
            " |-- place_name: string (nullable = true)\n",
            " |-- place_with_parent_names: string (nullable = true)\n",
            " |-- country_name: string (nullable = true)\n",
            " |-- state_name: string (nullable = true)\n",
            " |-- geonames_id: string (nullable = true)\n",
            " |-- lat-lon: string (nullable = true)\n",
            " |-- lat: string (nullable = true)\n",
            " |-- lon: string (nullable = true)\n",
            " |-- price: string (nullable = true)\n",
            " |-- currency: string (nullable = true)\n",
            " |-- price_aprox_local_currency: string (nullable = true)\n",
            " |-- price_aprox_usd: string (nullable = true)\n",
            " |-- surface_total_in_m2: string (nullable = true)\n",
            " |-- surface_covered_in_m2: string (nullable = true)\n",
            " |-- price_usd_per_m2: string (nullable = true)\n",
            " |-- price_per_m2: string (nullable = true)\n",
            " |-- floor: string (nullable = true)\n",
            " |-- rooms: string (nullable = true)\n",
            " |-- expenses: string (nullable = true)\n",
            " |-- properati_url: string (nullable = true)\n",
            " |-- description: string (nullable = true)\n",
            " |-- title: string (nullable = true)\n",
            " |-- image_thumbnail: string (nullable = true)\n",
            "\n"
          ],
          "name": "stdout"
        }
      ]
    },
    {
      "cell_type": "code",
      "metadata": {
        "id": "cNmFqYc6mhDM",
        "colab_type": "code",
        "colab": {}
      },
      "source": [
        "df_properties = df_properties_crude.where(\"lat-lon is not null\")"
      ],
      "execution_count": 0,
      "outputs": []
    },
    {
      "cell_type": "markdown",
      "metadata": {
        "id": "e-to1LlmmhDO",
        "colab_type": "text"
      },
      "source": [
        "#### Data dictionary: crime data"
      ]
    },
    {
      "cell_type": "code",
      "metadata": {
        "id": "mwh6qGLfmhDP",
        "colab_type": "code",
        "colab": {}
      },
      "source": [
        "data_dict_properties = {\n",
        "\"id\": \"string\",\n",
        "\"created_on\": \"string\",\n",
        "\"country_name\": \"string\",\n",
        "\"lat\": \"double\",\n",
        "\"lon\": \"double\",\n",
        "\"property_type\":\"string\",\n",
        "\"place_name\":\"string\",\n",
        "\"country_name\":\"string\",\n",
        "\"place_with_parent_names\":\"string\",\n",
        "\"price_aprox_local_currency\":\"double\",\n",
        "\"price_aprox_usd\":\"double\",\n",
        "\"price_usd_per_m2\":\"double\",\n",
        "\"price_per_m2\":\"double\"  \n",
        "}"
      ],
      "execution_count": 0,
      "outputs": []
    },
    {
      "cell_type": "markdown",
      "metadata": {
        "id": "NnoJz6dCmhDQ",
        "colab_type": "text"
      },
      "source": [
        "#### Converted all column types according to data dictionary"
      ]
    },
    {
      "cell_type": "code",
      "metadata": {
        "id": "fpoxmNKRmhDR",
        "colab_type": "code",
        "colab": {}
      },
      "source": [
        "for k, v in data_dict_properties.items():\n",
        "    df_properties = df_properties.withColumn(k, f.col(k).cast(v))"
      ],
      "execution_count": 0,
      "outputs": []
    },
    {
      "cell_type": "code",
      "metadata": {
        "id": "BEGgU_OvmhDT",
        "colab_type": "code",
        "colab": {}
      },
      "source": [
        "df_properties_output = df_properties.select('id', \\\n",
        "                     'created_on', \\\n",
        "                     'country_name', \\\n",
        "                     'lat', \\\n",
        "                     'lon', \\\n",
        "                     'property_type',\\\n",
        "                     'place_name',\\\n",
        "                     'country_name',\\\n",
        "                     'place_with_parent_names',\\\n",
        "                     'price_aprox_local_currency',\\\n",
        "                     'price_aprox_usd',\n",
        "                     'price_usd_per_m2',\\\n",
        "                     'price_per_m2')\\\n",
        "    .distinct()"
      ],
      "execution_count": 0,
      "outputs": []
    },
    {
      "cell_type": "code",
      "metadata": {
        "id": "U_WwfOWvmhDU",
        "colab_type": "code",
        "colab": {}
      },
      "source": [
        "df_properties_output.repartition(1).write.mode('append').parquet(OUTPUT_PROPERTIES)"
      ],
      "execution_count": 0,
      "outputs": []
    },
    {
      "cell_type": "code",
      "metadata": {
        "id": "yUgm3F0vmhDV",
        "colab_type": "code",
        "colab": {}
      },
      "source": [
        ""
      ],
      "execution_count": 0,
      "outputs": []
    }
  ]
}