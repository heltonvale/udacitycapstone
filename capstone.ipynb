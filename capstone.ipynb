{
 "cells": [
  {
   "cell_type": "markdown",
   "metadata": {
    "colab_type": "text",
    "id": "WIYQuPyBmhCM"
   },
   "source": [
    "## Data Engineering Capstone Project\n",
    "#### Introduction\n",
    "This project deals with criminal information from the City of São Paulo - Brazil. The aim is to provide a solid and sanitized database for use in statistical and Business Inteligence analysis.\n",
    "\n",
    "Steps for achieve the project:\n",
    "* Step 1: Scope the Project and Gather Data\n",
    "* Step 2: Explore and Assess the Data\n",
    "* Step 3: Define the Data Model\n",
    "* Step 4: Run ETL to Model the Data\n",
    "* Step 5: Complete Project Write Up"
   ]
  },
  {
   "cell_type": "markdown",
   "metadata": {
    "colab_type": "text",
    "id": "ynGNVbPDqB4p"
   },
   "source": [
    "### Import Libraries"
   ]
  },
  {
   "cell_type": "code",
   "execution_count": 1,
   "metadata": {
    "colab": {},
    "colab_type": "code",
    "id": "UAlYFmELmhCO"
   },
   "outputs": [],
   "source": [
    "from pyspark import SparkContext\n",
    "from pyspark.sql import SparkSession\n",
    "from pyspark.sql import functions as f\n",
    "from datetime import datetime\n",
    "from sys import stdout\n",
    "import os\n"
   ]
  },
  {
   "cell_type": "markdown",
   "metadata": {
    "colab_type": "text",
    "id": "z9CsUJOQp0Tr"
   },
   "source": [
    "### Create Functions"
   ]
  },
  {
   "cell_type": "code",
   "execution_count": 2,
   "metadata": {
    "colab": {},
    "colab_type": "code",
    "id": "yG08lXqamhCS"
   },
   "outputs": [],
   "source": [
    "def normalize_cname(_df):\n",
    "    \"\"\"\n",
    "    Standardizes column names from a dataframe (Spark)\n",
    "    \"\"\"\n",
    "    cols = _df.columns\n",
    "    df_result = _df\n",
    "    for c in cols:\n",
    "        df_result = df_result.withColumnRenamed(c, c.lower().replace(' ', '_'))\n",
    "    \n",
    "    return df_result\n",
    "\n",
    "def clean_ncols(_df):\n",
    "    \"\"\"\n",
    "    Replicate the dataframe to a new one with null fields\n",
    "    \"\"\"\n",
    "    col_types = _df.dtypes\n",
    "    df_result = _df\n",
    "    \n",
    "    for item in col_types:\n",
    "        if item[1] == 'string':\n",
    "            df_result = df_result.withColumn(item[0]\\\n",
    "                                            ,f.when(f.col(item[0]).isin('NULL','NaN', 'NA'), None)\\\n",
    "                                            .otherwise(f.col(item[0])) )\n",
    "    return df_result\n",
    "    "
   ]
  },
  {
   "cell_type": "code",
   "execution_count": 3,
   "metadata": {
    "colab": {},
    "colab_type": "code",
    "id": "Y9ZzifcpmhCW"
   },
   "outputs": [],
   "source": [
    "spark = SparkSession\\\n",
    "    .builder\\\n",
    "    .appName('caps')\\\n",
    "    .master(\"local[*]\")\\\n",
    "    .getOrCreate()"
   ]
  },
  {
   "cell_type": "markdown",
   "metadata": {
    "colab_type": "text",
    "id": "C8uds_cJmhCa"
   },
   "source": [
    "### Step 1: Scope the Project and Gather Data\n",
    "\n",
    "#### Describe and Gather Data\n",
    "1. **Crime Data in Brazil:** comes from [Kaggle](https://www.kaggle.com/inquisitivecrow/crime-data-in-brazil). All crime data from 10 years of police work in Sao Paulo - Brazil. There are more than 16kk of records with several attributes of criminal fact.\n",
    "3. **Current Properati Listing Information:** comes from [Kaggle](https://www.kaggle.com/properati-data/properties). Property attributes of 1.5 million Latin American listings.\n",
    "\n",
    "#### Gather Data\n",
    "The scope of this project is to create a Spark task responsible for making clean and reliable data available in a dimensional model.\n",
    "For our project, we will use AWS S3 as repository of our dimensional model, the query engine that will access our data is AWS Athena.\n",
    "Our analytical repository can be used by data scientists and industry intelligence analysts to identify patterns and correlations between data sets.\n",
    "For example, a company's real estate business needs to apply properties from a pricing study, using the data provided by our repository to identify if the surroundings of the properties have many indictment crimes and how relevant these criminal acts are."
   ]
  },
  {
   "cell_type": "code",
   "execution_count": 7,
   "metadata": {
    "colab": {},
    "colab_type": "code",
    "id": "cnaPlowSmhCb"
   },
   "outputs": [],
   "source": [
    "READ_PATH_CRIME_DATA = './data/crimes/*.csv'\n",
    "READ_PATH_PROPERTIES = './data/properties/*.csv'\n",
    "\n",
    "OUTPUT_CRIMES = 's3://hvale_dend/crimes'\n",
    "OUTPUT_PROPERTIES = 's3://hvale_dend/properties'"
   ]
  },
  {
   "cell_type": "markdown",
   "metadata": {
    "colab_type": "text",
    "id": "yi7oSSrTmhCd"
   },
   "source": [
    "#### Read dataset Crime data in Brazil and drop tuples duplicates"
   ]
  },
  {
   "cell_type": "code",
   "execution_count": 8,
   "metadata": {
    "colab": {},
    "colab_type": "code",
    "id": "a6BwgTFCmhCd",
    "outputId": "4dd6e984-2ec3-4715-fbe2-cb2b8509cdb0"
   },
   "outputs": [
    {
     "name": "stdout",
     "output_type": "stream",
     "text": [
      "root\n",
      " |-- NUM_BO: string (nullable = true)\n",
      " |-- ANO_BO: string (nullable = true)\n",
      " |-- ID_DELEGACIA: string (nullable = true)\n",
      " |-- NOME_DEPARTAMENTO: string (nullable = true)\n",
      " |-- NOME_SECCIONAL: string (nullable = true)\n",
      " |-- DELEGACIA: string (nullable = true)\n",
      " |-- NOME_DEPARTAMENTO_CIRC: string (nullable = true)\n",
      " |-- NOME_SECCIONAL_CIRC: string (nullable = true)\n",
      " |-- NOME_DELEGACIA_CIRC: string (nullable = true)\n",
      " |-- ANO: string (nullable = true)\n",
      " |-- MES: string (nullable = true)\n",
      " |-- DATA_OCORRENCIA_BO: string (nullable = true)\n",
      " |-- HORA_OCORRENCIA_BO: string (nullable = true)\n",
      " |-- FLAG_STATUS13: string (nullable = true)\n",
      " |-- RUBRICA: string (nullable = true)\n",
      " |-- DESDOBRAMENTO: string (nullable = true)\n",
      " |-- CONDUTA: string (nullable = true)\n",
      " |-- LATITUDE: string (nullable = true)\n",
      " |-- LONGITUDE: string (nullable = true)\n",
      " |-- CIDADE: string (nullable = true)\n",
      " |-- LOGRADOURO: string (nullable = true)\n",
      " |-- NUMERO_LOGRADOURO: string (nullable = true)\n",
      " |-- FLAG_STATUS22: string (nullable = true)\n",
      " |-- DESCR_TIPO_PESSOA: string (nullable = true)\n",
      " |-- CONT_PESSOA: string (nullable = true)\n",
      " |-- SEXO_PESSOA: string (nullable = true)\n",
      " |-- IDADE_PESSOA: string (nullable = true)\n",
      " |-- COR: string (nullable = true)\n",
      " |-- DESCR_PROFISSAO: string (nullable = true)\n",
      " |-- DESCR_GRAU_INSTRUCAO: string (nullable = true)\n",
      " |-- _c30: string (nullable = true)\n",
      " |-- _c31: string (nullable = true)\n",
      " |-- _c32: string (nullable = true)\n",
      "\n"
     ]
    }
   ],
   "source": [
    "df_crime_crude = spark.read\\\n",
    "    .option('mergeSchema', 'true')\\\n",
    "    .option('header', 'true')\\\n",
    "    .option('inferSchema', 'true')\\\n",
    "    .csv(READ_PATH_CRIME_DATA)\\\n",
    "    .dropDuplicates()\n",
    "\n",
    "df_crime_crude.printSchema()"
   ]
  },
  {
   "cell_type": "markdown",
   "metadata": {
    "colab_type": "text",
    "id": "WlGADBRPmhCg"
   },
   "source": [
    "#### Renamed columns to lower case"
   ]
  },
  {
   "cell_type": "code",
   "execution_count": 9,
   "metadata": {
    "colab": {},
    "colab_type": "code",
    "id": "reCT_bGimhCh"
   },
   "outputs": [],
   "source": [
    "df_crime_crude = normalize_cname(df_crime_crude)"
   ]
  },
  {
   "cell_type": "code",
   "execution_count": 10,
   "metadata": {
    "colab": {},
    "colab_type": "code",
    "id": "_Zu87AeLmhCj"
   },
   "outputs": [
    {
     "name": "stdout",
     "output_type": "stream",
     "text": [
      "Total records df_crime_crude: 16960893\n"
     ]
    }
   ],
   "source": [
    "qtd_reg_crimes = df_crime_crude.count()\n",
    "print('Total records df_crime_crude:', qtd_reg_crimes)"
   ]
  },
  {
   "cell_type": "markdown",
   "metadata": {
    "colab_type": "text",
    "id": "3tm6cfEXmhCk"
   },
   "source": [
    "### Step 2: Explore and Assess the Data"
   ]
  },
  {
   "cell_type": "markdown",
   "metadata": {
    "colab_type": "text",
    "id": "Xny4uQ_emhCl"
   },
   "source": [
    "#### Replace strings 'NULL','NaN', 'NA' to null type"
   ]
  },
  {
   "cell_type": "code",
   "execution_count": 11,
   "metadata": {
    "colab": {},
    "colab_type": "code",
    "id": "l2aj715tmhCm"
   },
   "outputs": [],
   "source": [
    "df_crime_crude = clean_ncols(df_crime_crude)"
   ]
  },
  {
   "cell_type": "markdown",
   "metadata": {
    "colab_type": "text",
    "id": "I03mb2kFmhCn"
   },
   "source": [
    "#### The columns are recorded as _col# records of badly formatted strings to our project records affected by these anomalies will be discarded because they represent a very low percentage."
   ]
  },
  {
   "cell_type": "code",
   "execution_count": 12,
   "metadata": {
    "colab": {},
    "colab_type": "code",
    "id": "eW1vdGgbmhCo"
   },
   "outputs": [],
   "source": [
    "df_crime = df_crime_crude.where('(_c30 is null and _c31 is null and _c32 is null)').drop('_c30', '_c31', '_c32')"
   ]
  },
  {
   "cell_type": "code",
   "execution_count": 32,
   "metadata": {
    "colab": {},
    "colab_type": "code",
    "id": "MzD_jokTmhCq",
    "outputId": "8d438354-8331-4e7a-f2e4-40e81b0861b4"
   },
   "outputs": [
    {
     "data": {
      "text/html": [
       "<div>\n",
       "<style scoped>\n",
       "    .dataframe tbody tr th:only-of-type {\n",
       "        vertical-align: middle;\n",
       "    }\n",
       "\n",
       "    .dataframe tbody tr th {\n",
       "        vertical-align: top;\n",
       "    }\n",
       "\n",
       "    .dataframe thead th {\n",
       "        text-align: right;\n",
       "    }\n",
       "</style>\n",
       "<table border=\"1\" class=\"dataframe\">\n",
       "  <thead>\n",
       "    <tr style=\"text-align: right;\">\n",
       "      <th></th>\n",
       "      <th>num_bo</th>\n",
       "      <th>ano_bo</th>\n",
       "      <th>id_delegacia</th>\n",
       "      <th>nome_departamento</th>\n",
       "      <th>nome_seccional</th>\n",
       "      <th>delegacia</th>\n",
       "      <th>nome_departamento_circ</th>\n",
       "      <th>nome_seccional_circ</th>\n",
       "      <th>nome_delegacia_circ</th>\n",
       "      <th>ano</th>\n",
       "      <th>...</th>\n",
       "      <th>logradouro</th>\n",
       "      <th>numero_logradouro</th>\n",
       "      <th>flag_status22</th>\n",
       "      <th>descr_tipo_pessoa</th>\n",
       "      <th>cont_pessoa</th>\n",
       "      <th>sexo_pessoa</th>\n",
       "      <th>idade_pessoa</th>\n",
       "      <th>cor</th>\n",
       "      <th>descr_profissao</th>\n",
       "      <th>descr_grau_instrucao</th>\n",
       "    </tr>\n",
       "  </thead>\n",
       "  <tbody>\n",
       "    <tr>\n",
       "      <th>0</th>\n",
       "      <td>3807</td>\n",
       "      <td>2009</td>\n",
       "      <td>30307</td>\n",
       "      <td>DEMACRO</td>\n",
       "      <td>DEL.SEC.MOGI DAS CRUZES</td>\n",
       "      <td>02º D.P. MOGI DAS CRUZES</td>\n",
       "      <td>DEMACRO</td>\n",
       "      <td>DEL.SEC.MOGI DAS CRUZES</td>\n",
       "      <td>02º D.P. MOGI DAS CRUZES</td>\n",
       "      <td>2009</td>\n",
       "      <td>...</td>\n",
       "      <td>AV ANCHIETA</td>\n",
       "      <td>0</td>\n",
       "      <td>C</td>\n",
       "      <td>Vítima</td>\n",
       "      <td>1</td>\n",
       "      <td>M</td>\n",
       "      <td>41</td>\n",
       "      <td>Preta</td>\n",
       "      <td>APOSENTADO(A)</td>\n",
       "      <td>1 Grau incompleto</td>\n",
       "    </tr>\n",
       "    <tr>\n",
       "      <th>1</th>\n",
       "      <td>2897</td>\n",
       "      <td>2009</td>\n",
       "      <td>10354</td>\n",
       "      <td>DECAP</td>\n",
       "      <td>DEL.SEC.8º SAO MATEUS</td>\n",
       "      <td>54º D.P.  CID. TIRADENTES</td>\n",
       "      <td>DECAP</td>\n",
       "      <td>DEL.SEC.8º SAO MATEUS</td>\n",
       "      <td>54º D.P.  CID. TIRADENTES</td>\n",
       "      <td>2009</td>\n",
       "      <td>...</td>\n",
       "      <td>DOUTOR  GUILERME DE ABREU SODRE</td>\n",
       "      <td>790</td>\n",
       "      <td>C</td>\n",
       "      <td>Indiciado</td>\n",
       "      <td>6</td>\n",
       "      <td>M</td>\n",
       "      <td>None</td>\n",
       "      <td>None</td>\n",
       "      <td>None</td>\n",
       "      <td>None</td>\n",
       "    </tr>\n",
       "    <tr>\n",
       "      <th>2</th>\n",
       "      <td>2919</td>\n",
       "      <td>2009</td>\n",
       "      <td>10344</td>\n",
       "      <td>DECAP</td>\n",
       "      <td>DEL.SEC.6º SANTO AMARO</td>\n",
       "      <td>80º D.P. VILA JOANIZA</td>\n",
       "      <td>DECAP</td>\n",
       "      <td>DEL.SEC.2º SUL</td>\n",
       "      <td>35º D.P.  JABAQUARA</td>\n",
       "      <td>2009</td>\n",
       "      <td>...</td>\n",
       "      <td>AC AV ENG ARMANDO DE ARRUDA PEREIRA</td>\n",
       "      <td>4678</td>\n",
       "      <td>C</td>\n",
       "      <td>Vítima</td>\n",
       "      <td>2</td>\n",
       "      <td>F</td>\n",
       "      <td>29</td>\n",
       "      <td>Branca</td>\n",
       "      <td>CONSULTOR(A)</td>\n",
       "      <td>Superior completo</td>\n",
       "    </tr>\n",
       "    <tr>\n",
       "      <th>3</th>\n",
       "      <td>3744</td>\n",
       "      <td>2009</td>\n",
       "      <td>10365</td>\n",
       "      <td>DECAP</td>\n",
       "      <td>DEL.SEC.4º NORTE</td>\n",
       "      <td>90º D.P. PQ. NOVO MUNDO</td>\n",
       "      <td>DECAP</td>\n",
       "      <td>DEL.SEC.4º NORTE</td>\n",
       "      <td>90º D.P. PQ. NOVO MUNDO</td>\n",
       "      <td>2009</td>\n",
       "      <td>...</td>\n",
       "      <td>AC MARGINAL DIREITA DO TIETE</td>\n",
       "      <td>18</td>\n",
       "      <td>C</td>\n",
       "      <td>Partes</td>\n",
       "      <td>5</td>\n",
       "      <td>M</td>\n",
       "      <td>45</td>\n",
       "      <td>Branca</td>\n",
       "      <td>ANALISTA DE SISTEMAS</td>\n",
       "      <td>Superior completo</td>\n",
       "    </tr>\n",
       "    <tr>\n",
       "      <th>4</th>\n",
       "      <td>3363</td>\n",
       "      <td>2009</td>\n",
       "      <td>10308</td>\n",
       "      <td>DECAP</td>\n",
       "      <td>DEL.SEC.5º LESTE</td>\n",
       "      <td>52º D.P.  PARQUE S.JORGE</td>\n",
       "      <td>DECAP</td>\n",
       "      <td>DEL.SEC.4º NORTE</td>\n",
       "      <td>19º D.P.  VILA MARIA</td>\n",
       "      <td>2009</td>\n",
       "      <td>...</td>\n",
       "      <td>AC PONTE PRES JANIO QUADROS-AV MORVAN DI</td>\n",
       "      <td>0</td>\n",
       "      <td>C</td>\n",
       "      <td>Testemunha</td>\n",
       "      <td>3</td>\n",
       "      <td>M</td>\n",
       "      <td>41</td>\n",
       "      <td>Branca</td>\n",
       "      <td>AJUDANTE</td>\n",
       "      <td>1 Grau incompleto</td>\n",
       "    </tr>\n",
       "  </tbody>\n",
       "</table>\n",
       "<p>5 rows × 30 columns</p>\n",
       "</div>"
      ],
      "text/plain": [
       "   num_bo  ano_bo  id_delegacia                         nome_departamento  \\\n",
       "0    3807    2009         30307  DEMACRO                                    \n",
       "1    2897    2009         10354  DECAP                                      \n",
       "2    2919    2009         10344  DECAP                                      \n",
       "3    3744    2009         10365  DECAP                                      \n",
       "4    3363    2009         10308  DECAP                                      \n",
       "\n",
       "                             nome_seccional                       delegacia  \\\n",
       "0  DEL.SEC.MOGI DAS CRUZES                   02º D.P. MOGI DAS CRUZES         \n",
       "1  DEL.SEC.8º SAO MATEUS                     54º D.P.  CID. TIRADENTES        \n",
       "2  DEL.SEC.6º SANTO AMARO                    80º D.P. VILA JOANIZA            \n",
       "3  DEL.SEC.4º NORTE                          90º D.P. PQ. NOVO MUNDO          \n",
       "4  DEL.SEC.5º LESTE                          52º D.P.  PARQUE S.JORGE         \n",
       "\n",
       "                     nome_departamento_circ  \\\n",
       "0  DEMACRO                                    \n",
       "1  DECAP                                      \n",
       "2  DECAP                                      \n",
       "3  DECAP                                      \n",
       "4  DECAP                                      \n",
       "\n",
       "                        nome_seccional_circ             nome_delegacia_circ  \\\n",
       "0  DEL.SEC.MOGI DAS CRUZES                   02º D.P. MOGI DAS CRUZES         \n",
       "1  DEL.SEC.8º SAO MATEUS                     54º D.P.  CID. TIRADENTES        \n",
       "2  DEL.SEC.2º SUL                            35º D.P.  JABAQUARA              \n",
       "3  DEL.SEC.4º NORTE                          90º D.P. PQ. NOVO MUNDO          \n",
       "4  DEL.SEC.4º NORTE                          19º D.P.  VILA MARIA             \n",
       "\n",
       "    ano  ...                                logradouro numero_logradouro  \\\n",
       "0  2009  ...   AV ANCHIETA                                             0   \n",
       "1  2009  ...   DOUTOR  GUILERME DE ABREU SODRE                       790   \n",
       "2  2009  ...  AC AV ENG ARMANDO DE ARRUDA PEREIRA                   4678   \n",
       "3  2009  ...  AC MARGINAL DIREITA DO TIETE                            18   \n",
       "4  2009  ...  AC PONTE PRES JANIO QUADROS-AV MORVAN DI                 0   \n",
       "\n",
       "  flag_status22     descr_tipo_pessoa cont_pessoa sexo_pessoa idade_pessoa  \\\n",
       "0             C  Vítima                         1           M           41   \n",
       "1             C  Indiciado                      6           M         None   \n",
       "2             C  Vítima                         2           F           29   \n",
       "3             C  Partes                         5           M           45   \n",
       "4             C  Testemunha                     3           M           41   \n",
       "\n",
       "                    cor                 descr_profissao  \\\n",
       "0  Preta                 APOSENTADO(A)                    \n",
       "1                  None                            None   \n",
       "2  Branca                CONSULTOR(A)                     \n",
       "3  Branca                ANALISTA DE SISTEMAS             \n",
       "4  Branca                AJUDANTE                         \n",
       "\n",
       "                       descr_grau_instrucao  \n",
       "0  1 Grau incompleto                         \n",
       "1                                      None  \n",
       "2  Superior completo                         \n",
       "3  Superior completo                         \n",
       "4  1 Grau incompleto                         \n",
       "\n",
       "[5 rows x 30 columns]"
      ]
     },
     "execution_count": 32,
     "metadata": {},
     "output_type": "execute_result"
    }
   ],
   "source": [
    "df_crime.limit(5).toPandas()"
   ]
  },
  {
   "cell_type": "markdown",
   "metadata": {
    "colab_type": "text",
    "id": "5dujNx8YmhCs"
   },
   "source": [
    "#### Normalizing the sexo_pessoa stands for F (female)"
   ]
  },
  {
   "cell_type": "code",
   "execution_count": 14,
   "metadata": {
    "colab": {},
    "colab_type": "code",
    "id": "KWvBm7zCmhCt"
   },
   "outputs": [],
   "source": [
    "df_crime = df_crime.withColumn('sexo_pessoa'\\\n",
    "                               , f.when(f.col('sexo_pessoa') == 'I', 'F')\\\n",
    "                               .otherwise(f.col('sexo_pessoa')))"
   ]
  },
  {
   "cell_type": "markdown",
   "metadata": {
    "colab_type": "text",
    "id": "d-DhoQrzmhCx"
   },
   "source": [
    "#### Data dictionary: crime data"
   ]
  },
  {
   "cell_type": "code",
   "execution_count": 16,
   "metadata": {
    "colab": {},
    "colab_type": "code",
    "id": "iGqlTJw0mhCy"
   },
   "outputs": [],
   "source": [
    "data_dict_crime = {\n",
    "\"num_bo\": \"integer\",\n",
    "\"ano_bo\": \"integer\",\n",
    "\"id_delegacia\": \"integer\",\n",
    "\"nome_departamento\": \"string\",\n",
    "\"nome_seccional\": \"string\",\n",
    "\"delegacia\": \"string\",\n",
    "\"nome_departamento_circ\": \"string\",\n",
    "\"nome_seccional_circ\": \"string\",\n",
    "\"nome_delegacia_circ\": \"string\",\n",
    "\"ano\": \"integer\",\n",
    "\"mes\": \"integer\",\n",
    "\"data_ocorrencia_bo\":\"string\",\n",
    "\"hora_ocorrencia_bo\":\"string\",\n",
    "\"flag_status13\": \"string\",\n",
    "\"rubrica\": \"string\",\n",
    "\"desdobramento\": \"string\",\n",
    "\"conduta\": \"string\",\n",
    "\"latitude\": \"double\",\n",
    "\"longitude\": \"double\",\n",
    "\"cidade\": \"string\",\n",
    "\"logradouro\": \"string\",\n",
    "\"numero_logradouro\": \"string\",\n",
    "\"flag_status22\": \"string\",\n",
    "\"descr_tipo_pessoa\": \"string\",\n",
    "\"cont_pessoa\": \"string\",\n",
    "\"sexo_pessoa\": \"string\",\n",
    "\"idade_pessoa\": \"string\",\n",
    "\"cor\": \"string\",\n",
    "\"descr_profissao\": \"string\",\n",
    "\"descr_grau_instrucao\": \"string\"\n",
    "}"
   ]
  },
  {
   "cell_type": "markdown",
   "metadata": {
    "colab_type": "text",
    "id": "V--vvzU3mhCz"
   },
   "source": [
    "#### Converted all column types according to data dictionary"
   ]
  },
  {
   "cell_type": "code",
   "execution_count": 17,
   "metadata": {
    "colab": {},
    "colab_type": "code",
    "id": "8kdX0IdBmhC0"
   },
   "outputs": [],
   "source": [
    "for k, v in data_dict_crime.items():\n",
    "    df_crime = df_crime.withColumn(k, f.col(k).cast(v))"
   ]
  },
  {
   "cell_type": "markdown",
   "metadata": {
    "colab_type": "text",
    "id": "ZmNjCb3zmhC2"
   },
   "source": [
    "#### Data quality check: validate types"
   ]
  },
  {
   "cell_type": "code",
   "execution_count": 18,
   "metadata": {
    "colab": {},
    "colab_type": "code",
    "id": "EctLUEBRmhC2",
    "outputId": "8c7963bd-9a6b-4079-cb9f-cde2a47d4ed1"
   },
   "outputs": [
    {
     "name": "stdout",
     "output_type": "stream",
     "text": [
      "root\n",
      " |-- num_bo: integer (nullable = true)\n",
      " |-- ano_bo: integer (nullable = true)\n",
      " |-- id_delegacia: integer (nullable = true)\n",
      " |-- nome_departamento: string (nullable = true)\n",
      " |-- nome_seccional: string (nullable = true)\n",
      " |-- delegacia: string (nullable = true)\n",
      " |-- nome_departamento_circ: string (nullable = true)\n",
      " |-- nome_seccional_circ: string (nullable = true)\n",
      " |-- nome_delegacia_circ: string (nullable = true)\n",
      " |-- ano: integer (nullable = true)\n",
      " |-- mes: integer (nullable = true)\n",
      " |-- data_ocorrencia_bo: string (nullable = true)\n",
      " |-- hora_ocorrencia_bo: string (nullable = true)\n",
      " |-- flag_status13: string (nullable = true)\n",
      " |-- rubrica: string (nullable = true)\n",
      " |-- desdobramento: string (nullable = true)\n",
      " |-- conduta: string (nullable = true)\n",
      " |-- latitude: double (nullable = true)\n",
      " |-- longitude: double (nullable = true)\n",
      " |-- cidade: string (nullable = true)\n",
      " |-- logradouro: string (nullable = true)\n",
      " |-- numero_logradouro: string (nullable = true)\n",
      " |-- flag_status22: string (nullable = true)\n",
      " |-- descr_tipo_pessoa: string (nullable = true)\n",
      " |-- cont_pessoa: string (nullable = true)\n",
      " |-- sexo_pessoa: string (nullable = true)\n",
      " |-- idade_pessoa: string (nullable = true)\n",
      " |-- cor: string (nullable = true)\n",
      " |-- descr_profissao: string (nullable = true)\n",
      " |-- descr_grau_instrucao: string (nullable = true)\n",
      "\n"
     ]
    }
   ],
   "source": [
    "df_crime.printSchema()"
   ]
  },
  {
   "cell_type": "markdown",
   "metadata": {
    "colab_type": "text",
    "id": "2-E6lWt0mhC5"
   },
   "source": [
    "#### To optimize future transformations, our dataframe will be created from parquet files in a temporary directory.\n",
    "We will use this feature only now because previous transformations made the data frame consumable"
   ]
  },
  {
   "cell_type": "code",
   "execution_count": 20,
   "metadata": {
    "colab": {},
    "colab_type": "code",
    "id": "2g8pVKwEmhC6"
   },
   "outputs": [],
   "source": [
    "df_crime.repartition(50).write.mode('append').parquet('./data/tmp_crime_data_br/')"
   ]
  },
  {
   "cell_type": "code",
   "execution_count": 21,
   "metadata": {
    "colab": {},
    "colab_type": "code",
    "id": "p0t1hk87mhC9"
   },
   "outputs": [],
   "source": [
    "df_crime_temp = spark.read.parquet('./data/tmp_crime_data_br/*.parquet')\n",
    "df_crime_temp.where(\"sexo_pessoa in ('F', 'M') and (latitude is not null or longitude is not null)\")\\\n",
    ".createOrReplaceTempView('df_crime')"
   ]
  },
  {
   "cell_type": "markdown",
   "metadata": {
    "colab_type": "text",
    "id": "qfKoG2M2mhC-"
   },
   "source": [
    "#### Create dimension police station"
   ]
  },
  {
   "cell_type": "code",
   "execution_count": 22,
   "metadata": {
    "colab": {},
    "colab_type": "code",
    "id": "M34PKctAmhC_"
   },
   "outputs": [],
   "source": [
    "df_police_station = spark.sql(\"\\\n",
    "          SELECT DISTINCT id_delegacia, nome_departamento, nome_seccional, delegacia\\\n",
    "          FROM df_crime\\\n",
    "          \")"
   ]
  },
  {
   "cell_type": "markdown",
   "metadata": {
    "colab_type": "text",
    "id": "6ClYVuXJmhDA"
   },
   "source": [
    "#### Data quality check: check empty data frame"
   ]
  },
  {
   "cell_type": "code",
   "execution_count": 23,
   "metadata": {
    "colab": {},
    "colab_type": "code",
    "id": "CCZkaW3gmhDB",
    "outputId": "dedb7dfe-6697-4e93-a4ca-d5c0cd988c02"
   },
   "outputs": [
    {
     "data": {
      "text/plain": [
       "1135"
      ]
     },
     "execution_count": 23,
     "metadata": {},
     "output_type": "execute_result"
    }
   ],
   "source": [
    "df_police_station.count()"
   ]
  },
  {
   "cell_type": "markdown",
   "metadata": {
    "colab_type": "text",
    "id": "8Yog0h2UmhDD"
   },
   "source": [
    "#### Writing data from police station"
   ]
  },
  {
   "cell_type": "code",
   "execution_count": null,
   "metadata": {},
   "outputs": [],
   "source": [
    "df_police_station.repartition(1).write.mode('append').parquet('{}/{}'.format(OUTPUT_CRIMES, 'police_station'))"
   ]
  },
  {
   "cell_type": "markdown",
   "metadata": {
    "colab_type": "text",
    "id": "XVxwEFhWmhDF"
   },
   "source": [
    "#### Create table fact crimes"
   ]
  },
  {
   "cell_type": "code",
   "execution_count": 25,
   "metadata": {
    "colab": {},
    "colab_type": "code",
    "id": "uBnWTd5umhDF"
   },
   "outputs": [],
   "source": [
    "df_crime_crudedf_fact = spark.sql(\"\\\n",
    "          SELECT DISTINCT \\\n",
    "            num_bo, \\\n",
    "            id_delegacia, \\\n",
    "            latitude, \\\n",
    "            longitude, \\\n",
    "            ano_bo, \\\n",
    "            nome_departamento_circ, \\\n",
    "            nome_seccional_circ, \\\n",
    "            nome_delegacia_circ, \\\n",
    "            ano, \\\n",
    "            mes, \\\n",
    "            data_ocorrencia_bo, \\\n",
    "            hora_ocorrencia_bo, \\\n",
    "            flag_status13, \\\n",
    "            rubrica, \\\n",
    "            desdobramento, \\\n",
    "            conduta, \\\n",
    "            cidade, \\\n",
    "            logradouro, \\\n",
    "            numero_logradouro, \\\n",
    "            flag_status22, \\\n",
    "            descr_tipo_pessoa, \\\n",
    "            cont_pessoa, \\\n",
    "            sexo_pessoa, \\\n",
    "            idade_pessoa, \\\n",
    "            cor, \\\n",
    "            descr_profissao, \\\n",
    "            descr_grau_instrucao \\\n",
    "          FROM df_crime\\\n",
    "          \")"
   ]
  },
  {
   "cell_type": "code",
   "execution_count": null,
   "metadata": {
    "colab": {},
    "colab_type": "code",
    "id": "xAY5ak1jmhDG"
   },
   "outputs": [],
   "source": [
    "df_fact.repartition(10).write.mode('append').parquet('{}/{}'.format(OUTPUT_CRIMES, 'fact_crimes'))"
   ]
  },
  {
   "cell_type": "markdown",
   "metadata": {
    "colab_type": "text",
    "id": "g1ejEHS6mhDI"
   },
   "source": [
    "\n",
    "#### Read dataset Properties"
   ]
  },
  {
   "cell_type": "code",
   "execution_count": 27,
   "metadata": {
    "colab": {},
    "colab_type": "code",
    "id": "ScowCHximhDI",
    "outputId": "79711a87-7bf0-40ca-b511-4730d2d74282"
   },
   "outputs": [
    {
     "name": "stdout",
     "output_type": "stream",
     "text": [
      "root\n",
      " |-- id: string (nullable = true)\n",
      " |-- created_on: timestamp (nullable = true)\n",
      " |-- operation: string (nullable = true)\n",
      " |-- property_type: string (nullable = true)\n",
      " |-- place_name: string (nullable = true)\n",
      " |-- place_with_parent_names: string (nullable = true)\n",
      " |-- country_name: string (nullable = true)\n",
      " |-- state_name: string (nullable = true)\n",
      " |-- geonames_id: string (nullable = true)\n",
      " |-- lat-lon: string (nullable = true)\n",
      " |-- lat: double (nullable = true)\n",
      " |-- lon: double (nullable = true)\n",
      " |-- price: double (nullable = true)\n",
      " |-- currency: string (nullable = true)\n",
      " |-- price_aprox_local_currency: double (nullable = true)\n",
      " |-- price_aprox_usd: double (nullable = true)\n",
      " |-- surface_total_in_m2: integer (nullable = true)\n",
      " |-- surface_covered_in_m2: integer (nullable = true)\n",
      " |-- price_usd_per_m2: double (nullable = true)\n",
      " |-- price_per_m2: double (nullable = true)\n",
      " |-- floor: integer (nullable = true)\n",
      " |-- rooms: integer (nullable = true)\n",
      " |-- expenses: integer (nullable = true)\n",
      " |-- properati_url: string (nullable = true)\n",
      " |-- description: string (nullable = true)\n",
      " |-- title: string (nullable = true)\n",
      " |-- image_thumbnail: string (nullable = true)\n",
      "\n"
     ]
    }
   ],
   "source": [
    "df_properties_crude = spark.read\\\n",
    "    .option('mergeSchema', 'true')\\\n",
    "    .option('header', 'true')\\\n",
    "    .option('quote', '\"')\\\n",
    "    .option('escape', '\"')\\\n",
    "    .option('inferSchema', 'true')\\\n",
    "    .csv(READ_PATH_PROPERTIES)\n",
    "df_properties = normalize_cname(df_properties_crude)\n",
    "df_properties.printSchema()"
   ]
  },
  {
   "cell_type": "code",
   "execution_count": 28,
   "metadata": {
    "colab": {},
    "colab_type": "code",
    "id": "cNmFqYc6mhDM"
   },
   "outputs": [],
   "source": [
    "df_properties = df_properties_crude.where(\"lat-lon is not null\")"
   ]
  },
  {
   "cell_type": "markdown",
   "metadata": {
    "colab_type": "text",
    "id": "e-to1LlmmhDO"
   },
   "source": [
    "#### Data dictionary: crime data"
   ]
  },
  {
   "cell_type": "code",
   "execution_count": 29,
   "metadata": {
    "colab": {},
    "colab_type": "code",
    "id": "mwh6qGLfmhDP"
   },
   "outputs": [],
   "source": [
    "data_dict_properties = {\n",
    "\"id\": \"string\",\n",
    "\"created_on\": \"string\",\n",
    "\"country_name\": \"string\",\n",
    "\"lat\": \"double\",\n",
    "\"lon\": \"double\",\n",
    "\"property_type\":\"string\",\n",
    "\"place_name\":\"string\",\n",
    "\"country_name\":\"string\",\n",
    "\"place_with_parent_names\":\"string\",\n",
    "\"price_aprox_local_currency\":\"double\",\n",
    "\"price_aprox_usd\":\"double\",\n",
    "\"price_usd_per_m2\":\"double\",\n",
    "\"price_per_m2\":\"double\"  \n",
    "}"
   ]
  },
  {
   "cell_type": "markdown",
   "metadata": {
    "colab_type": "text",
    "id": "NnoJz6dCmhDQ"
   },
   "source": [
    "#### Converted all column types according to data dictionary"
   ]
  },
  {
   "cell_type": "code",
   "execution_count": 30,
   "metadata": {
    "colab": {},
    "colab_type": "code",
    "id": "fpoxmNKRmhDR"
   },
   "outputs": [],
   "source": [
    "for k, v in data_dict_properties.items():\n",
    "    df_properties = df_properties.withColumn(k, f.col(k).cast(v))"
   ]
  },
  {
   "cell_type": "code",
   "execution_count": 31,
   "metadata": {
    "colab": {},
    "colab_type": "code",
    "id": "BEGgU_OvmhDT"
   },
   "outputs": [],
   "source": [
    "df_properties_output = df_properties.select('id', \\\n",
    "                     'created_on', \\\n",
    "                     'country_name', \\\n",
    "                     'lat', \\\n",
    "                     'lon', \\\n",
    "                     'property_type',\\\n",
    "                     'place_name',\\\n",
    "                     'country_name',\\\n",
    "                     'place_with_parent_names',\\\n",
    "                     'price_aprox_local_currency',\\\n",
    "                     'price_aprox_usd',\n",
    "                     'price_usd_per_m2',\\\n",
    "                     'price_per_m2')\\\n",
    "    .distinct()"
   ]
  },
  {
   "cell_type": "code",
   "execution_count": null,
   "metadata": {
    "colab": {},
    "colab_type": "code",
    "id": "U_WwfOWvmhDU"
   },
   "outputs": [],
   "source": [
    "df_properties_output.repartition(1).write.mode('append').parquet(OUTPUT_PROPERTIES)"
   ]
  },
  {
   "cell_type": "code",
   "execution_count": null,
   "metadata": {
    "colab": {},
    "colab_type": "code",
    "id": "yUgm3F0vmhDV"
   },
   "outputs": [],
   "source": []
  },
  {
   "cell_type": "code",
   "execution_count": null,
   "metadata": {},
   "outputs": [],
   "source": []
  },
  {
   "cell_type": "code",
   "execution_count": null,
   "metadata": {},
   "outputs": [],
   "source": []
  }
 ],
 "metadata": {
  "colab": {
   "name": "script.ipynb",
   "provenance": []
  },
  "kernelspec": {
   "display_name": "Python 3",
   "language": "python",
   "name": "python3"
  },
  "language_info": {
   "codemirror_mode": {
    "name": "ipython",
    "version": 3
   },
   "file_extension": ".py",
   "mimetype": "text/x-python",
   "name": "python",
   "nbconvert_exporter": "python",
   "pygments_lexer": "ipython3",
   "version": "3.7.5rc1"
  }
 },
 "nbformat": 4,
 "nbformat_minor": 1
}
